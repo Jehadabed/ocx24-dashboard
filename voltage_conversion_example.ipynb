{
  "cells": [
    {
      "cell_type": "markdown",
      "metadata": {},
      "source": [
        "# Voltage Conversion from Full Cell to Half-Cell Potentials\n",
        "\n",
        "This notebook demonstrates how to convert full cell voltage measurements to half-cell potentials (vs SHE and vs RHE) using calibration data from electrochemical measurements in a three-electrode configuration.\n",
        "\n",
        "## Methodology\n",
        "\n",
        "The conversion accounts for:\n",
        "- Membrane overpotential and ionic resistance\n",
        "- Nernstian pH gradient effects\n",
        "- Reference electrode potential corrections\n",
        "- Current density-dependent ohmic losses\n",
        "\n",
        "**Reference:** Arabyarmohammadi, F. et al. Voltage distribution within carbon dioxide reduction electrolysers. *Nature Sustainability* (2025) - https://www.nature.com/articles/s41893-025-01643-4\n"
      ]
    },
    {
      "cell_type": "markdown",
      "metadata": {},
      "source": [
        "## Import Required Libraries\n"
      ]
    },
    {
      "cell_type": "code",
      "execution_count": 1,
      "metadata": {},
      "outputs": [],
      "source": [
        "import numpy as np\n",
        "import matplotlib.pyplot as plt\n",
        "from scipy.optimize import curve_fit\n",
        "from scipy.stats import linregress\n",
        "import pandas as pd\n"
      ]
    },
    {
      "cell_type": "markdown",
      "metadata": {},
      "source": [
        "## Calibration Data and Experimental Conditions\n",
        "\n",
        "**Experiment conditions:** Neutral CO₂RR in 4cm² cell, Sputtered Copper Catalyst, 0.1M Bicarbonate - ref electrode (3M KCl) 230mV vs SHE\n"
      ]
    },
    {
      "cell_type": "code",
      "execution_count": 2,
      "metadata": {},
      "outputs": [
        {
          "name": "stdout",
          "output_type": "stream",
          "text": [
            "Reference electrode potential: 0.23 V vs SHE\n",
            "Cathode pH: 12.5, Anode pH: 3\n",
            "Nernstian pH loss: 0.560 V\n",
            "Geometric area: 4 cm²\n",
            "Membrane loss: 0.1 V\n",
            "Thermodynamic potentials - Cathode: 0.08 V, Anode: 1.23 V\n"
          ]
        }
      ],
      "source": [
        "# Experiment conditions\n",
        "ref_pot = 0.23  # V Ag/AgCl electrode\n",
        "cathode_pH = 12.5\n",
        "anode_pH = 3\n",
        "Nern_pH_loss = (cathode_pH - anode_pH) * 0.059 \n",
        "geo_area = 4  # cm²\n",
        "membrane_loss = 0.1  # V\n",
        "cathode_thermo = +0.08\n",
        "anode_thermo = +1.23\n",
        "thermo_pot = anode_thermo - cathode_thermo\n",
        "\n",
        "print(f\"Reference electrode potential: {ref_pot} V vs SHE\")\n",
        "print(f\"Cathode pH: {cathode_pH}, Anode pH: {anode_pH}\")\n",
        "print(f\"Nernstian pH loss: {Nern_pH_loss:.3f} V\")\n",
        "print(f\"Geometric area: {geo_area} cm²\")\n",
        "print(f\"Membrane loss: {membrane_loss} V\")\n",
        "print(f\"Thermodynamic potentials - Cathode: {cathode_thermo} V, Anode: {anode_thermo} V\")\n"
      ]
    },
    {
      "cell_type": "code",
      "execution_count": 3,
      "metadata": {},
      "outputs": [
        {
          "name": "stdout",
          "output_type": "stream",
          "text": [
            "Calibration measurements:\n",
            "Current density (mA/cm²): [ 50 100 200]\n",
            "Cathode potential (V): [-1.62 -2.   -2.3 ]\n",
            "Cathode resistance (Ω): [0.48 0.34 0.3 ]\n",
            "Anode potential (V): [1.3  1.35 1.4 ]\n",
            "Full cell potential (V): [3.  3.4 3.7]\n",
            "Full cell resistance (Ω): [0.47 0.35 0.3 ]\n"
          ]
        }
      ],
      "source": [
        "# Measured values from calibration work\n",
        "j = np.array([50, 100, 200])  # mA/cm²\n",
        "cathode_pot = np.array([-1.62, -2.0, -2.3])  # V\n",
        "cathode_R = np.array([0.48, 0.34, 0.3])  # Ω\n",
        "anode_pot = np.array([1.3, 1.35, 1.4])  # V\n",
        "anode_R = np.array([0, 0, 0])  # almost negligible\n",
        "fullcell_pot = np.array([3, 3.4, 3.7])  # V\n",
        "fullcell_R = np.array([0.47, 0.35, 0.3])  # Ω\n",
        "\n",
        "print(\"Calibration measurements:\")\n",
        "print(f\"Current density (mA/cm²): {j}\")\n",
        "print(f\"Cathode potential (V): {cathode_pot}\")\n",
        "print(f\"Cathode resistance (Ω): {cathode_R}\")\n",
        "print(f\"Anode potential (V): {anode_pot}\")\n",
        "print(f\"Full cell potential (V): {fullcell_pot}\")\n",
        "print(f\"Full cell resistance (Ω): {fullcell_R}\")\n"
      ]
    },
    {
      "cell_type": "markdown",
      "metadata": {},
      "source": [
        "## Core Conversion Functions\n"
      ]
    },
    {
      "cell_type": "code",
      "execution_count": 4,
      "metadata": {},
      "outputs": [],
      "source": [
        "def she2rhe(ushe, pH, ref_pot):\n",
        "    \"\"\"Convert SHE potential to RHE potential.\"\"\"\n",
        "    ushe = ushe + ref_pot + (0.059 * pH)\n",
        "    return ushe\n",
        "\n",
        "def rhe2she(urhe, pH, ref_pot):\n",
        "    \"\"\"Convert RHE potential to SHE potential.\"\"\"\n",
        "    urhe = urhe - ref_pot - (0.059 * pH)\n",
        "    return urhe\n",
        "\n",
        "def correct_potential(pot, R, pH, j, area, ref_pot):\n",
        "    \"\"\"Correct potential for ohmic losses.\"\"\"\n",
        "    if pot < 0:\n",
        "        corrected_pot = she2rhe(pot + j/1000 * area * R, pH, ref_pot)\n",
        "    else:\n",
        "        corrected_pot = she2rhe(pot - j/1000 * area * R, pH, ref_pot)\n",
        "    return corrected_pot\n",
        "\n",
        "def get_overpotential(pot, pot_theory):\n",
        "    \"\"\"Calculate overpotential.\"\"\"\n",
        "    overpot = abs(pot - pot_theory)\n",
        "    return overpot\n"
      ]
    },
    {
      "cell_type": "markdown",
      "metadata": {},
      "source": [
        "## Data Processing and Correction\n"
      ]
    },
    {
      "cell_type": "code",
      "execution_count": 5,
      "metadata": {},
      "outputs": [
        {
          "name": "stdout",
          "output_type": "stream",
          "text": [
            "Corrected potentials:\n",
            "Cathode corrected potential (V vs RHE): [-0.5565 -0.8965 -1.0925]\n",
            "Anode corrected potential (V vs RHE): [1.707 1.757 1.807]\n",
            "Cathode overpotential (V): [0.6365 0.9765 1.1725]\n",
            "Anode overpotential (V): [0.477 0.527 0.577]\n"
          ]
        }
      ],
      "source": [
        "# Process calibration data\n",
        "n = len(cathode_pot)\n",
        "cathode_pot_corr = np.zeros(n)\n",
        "anode_pot_corr = np.zeros(n)\n",
        "cathode_overpot = np.zeros(n)\n",
        "anode_overpot = np.zeros(n)\n",
        "fullcell_pot_corr = np.zeros(n)\n",
        "\n",
        "for i in range(n):\n",
        "    cathode_pot_corr[i] = correct_potential(cathode_pot[i], cathode_R[i], cathode_pH, j[i], geo_area, ref_pot)\n",
        "    anode_pot_corr[i] = correct_potential(anode_pot[i], anode_R[i], anode_pH, j[i], geo_area, ref_pot)\n",
        "    cathode_overpot[i] = get_overpotential(cathode_pot_corr[i], 0.08)\n",
        "    anode_overpot[i] = get_overpotential(anode_pot_corr[i], 1.23)\n",
        "    fullcell_pot_corr[i] = fullcell_pot[i] - fullcell_R[i] * j[i] / 1000 * geo_area\n",
        "\n",
        "print('Corrected potentials:')\n",
        "print(f'Cathode corrected potential (V vs RHE): {cathode_pot_corr}')\n",
        "print(f'Anode corrected potential (V vs RHE): {anode_pot_corr}')\n",
        "print(f'Cathode overpotential (V): {cathode_overpot}')\n",
        "print(f'Anode overpotential (V): {anode_overpot}')\n"
      ]
    },
    {
      "cell_type": "markdown",
      "metadata": {},
      "source": [
        "## Linear Regression Functions\n"
      ]
    },
    {
      "cell_type": "code",
      "execution_count": 6,
      "metadata": {},
      "outputs": [],
      "source": [
        "def lin_fxn(x, a, b):\n",
        "    \"\"\"Linear function for curve fitting.\"\"\"\n",
        "    return a * x + b\n",
        "\n",
        "def fit_lin(X, Y):\n",
        "    \"\"\"Fit linear function to data.\"\"\"\n",
        "    params, covariance = curve_fit(lin_fxn, X, Y)\n",
        "    a_fit, b_fit = params\n",
        "    return (a_fit, b_fit)\n",
        "\n",
        "def est_x(x, X, Y):\n",
        "    \"\"\"Estimate x value using linear fit.\"\"\"\n",
        "    fit = fit_lin(X, Y)\n",
        "    x = fit[0] * x + fit[1]\n",
        "    return x\n"
      ]
    },
    {
      "cell_type": "markdown",
      "metadata": {},
      "source": [
        "## Main Conversion Functions\n"
      ]
    },
    {
      "cell_type": "code",
      "execution_count": 7,
      "metadata": {},
      "outputs": [],
      "source": [
        "def cell2rhe(vcell, X, Y):\n",
        "    \"\"\"Convert full cell voltage to RHE potential.\"\"\"\n",
        "    vrhe = est_x(vcell, X, Y)\n",
        "    return vrhe\n",
        "\n",
        "def fullcell2halfcell(vcell):\n",
        "    \"\"\"\n",
        "    Main function to convert a voltage value from full cell to half cell vs SHE or RHE.\n",
        "    \n",
        "    Parameters:\n",
        "    -----------\n",
        "    vcell : float\n",
        "        Full cell voltage (V)\n",
        "        \n",
        "    Returns:\n",
        "    --------\n",
        "    ushe : float\n",
        "        Half-cell potential vs SHE (V)\n",
        "    urhe : float\n",
        "        Half-cell potential vs RHE (V)\n",
        "    \"\"\"\n",
        "    cali_dict = load_calibration_data_for_voltage_conversion()\n",
        "    urhe = cell2rhe(vcell, cali_dict['measurements']['fullcell pot'], cali_dict['extracted params']['cathode pot corr'])\n",
        "    ushe = rhe2she(urhe, cali_dict['conditions']['cathode pH'], cali_dict['conditions']['ref pot'])\n",
        "    return ushe, urhe\n",
        "\n",
        "def load_calibration_data_for_voltage_conversion():\n",
        "    \"\"\"Load calibration data for voltage conversion.\"\"\"\n",
        "    conditions_dict = {\n",
        "        'ref pot': ref_pot,\n",
        "        'cathode pH': cathode_pH,\n",
        "        'anode pH': anode_pH,\n",
        "        'Nern pH loss': Nern_pH_loss,\n",
        "        'geo area': geo_area,\n",
        "        'membrane loss': membrane_loss,\n",
        "        'cathod thermo': cathode_thermo,\n",
        "        'anode thermo': anode_thermo,\n",
        "        'thermo pot': thermo_pot,\n",
        "    }\n",
        "    measurements_dict = {\n",
        "        'j': j, 'cathode pot': cathode_pot, 'cathode R': cathode_R, \n",
        "        'anode pot': anode_pot, 'anode R': anode_R, \n",
        "        'fullcell pot': fullcell_pot, 'fullcell R': fullcell_R,\n",
        "    }\n",
        "    data_dict = {\n",
        "        'cathode pot corr': cathode_pot_corr, 'anode pot corr': anode_pot_corr,\n",
        "        'cathode overpot': cathode_overpot, 'anode overpot': anode_overpot, \n",
        "        'fullcell pot corr': fullcell_pot_corr    \n",
        "    }\n",
        "    return {'measurements': measurements_dict, 'conditions': conditions_dict, 'extracted params': data_dict}\n"
      ]
    },
    {
      "cell_type": "markdown",
      "metadata": {},
      "source": [
        "## Working Example: Convert Sample Voltages\n"
      ]
    },
    {
      "cell_type": "code",
      "execution_count": 8,
      "metadata": {},
      "outputs": [
        {
          "name": "stdout",
          "output_type": "stream",
          "text": [
            "Voltage Conversion Example:\n",
            "============================================================\n",
            "Full Cell (V) vs SHE (V)   vs RHE (V)  \n",
            "------------------------------------------------------------\n",
            "2.8          -1.380       -0.412      \n",
            "3.2          -1.688       -0.720      \n",
            "3.5          -1.919       -0.951      \n",
            "3.8          -2.150       -1.182      \n",
            "4.0          -2.304       -1.336      \n"
          ]
        }
      ],
      "source": [
        "# Example: Convert some sample full cell voltages\n",
        "sample_voltages = [2.8, 3.2, 3.5, 3.8, 4.0]\n",
        "\n",
        "print(\"Voltage Conversion Example:\")\n",
        "print(\"=\" * 60)\n",
        "print(f\"{'Full Cell (V)':<12} {'vs SHE (V)':<12} {'vs RHE (V)':<12}\")\n",
        "print(\"-\" * 60)\n",
        "\n",
        "for vcell in sample_voltages:\n",
        "    ushe, urhe = fullcell2halfcell(vcell)\n",
        "    print(f\"{vcell:<12.1f} {ushe:<12.3f} {urhe:<12.3f}\")\n"
      ]
    },
    {
      "cell_type": "markdown",
      "metadata": {},
      "source": [
        "## Validation: Compare Estimated vs True Values\n"
      ]
    },
    {
      "cell_type": "code",
      "execution_count": 9,
      "metadata": {},
      "outputs": [
        {
          "name": "stdout",
          "output_type": "stream",
          "text": [
            "Validation of Conversion Accuracy:\n",
            "================================================================================\n",
            "Vcell: 3.00 V \t Estimated VRHE: -0.566 V \t True VRHE: -0.557 V \t Error: -1.72%\n",
            "--------------------------------------------------------------------------------\n",
            "Vcell: 3.40 V \t Estimated VRHE: -0.874 V \t True VRHE: -0.896 V \t Error: 2.49%\n",
            "--------------------------------------------------------------------------------\n",
            "Vcell: 3.70 V \t Estimated VRHE: -1.105 V \t True VRHE: -1.092 V \t Error: -1.17%\n",
            "--------------------------------------------------------------------------------\n"
          ]
        }
      ],
      "source": [
        "print(\"Validation of Conversion Accuracy:\")\n",
        "print(\"=\" * 80)\n",
        "\n",
        "for i in range(len(fullcell_pot)):\n",
        "    val = fullcell_pot[i]\n",
        "    est_val = cell2rhe(fullcell_pot[i], fullcell_pot, cathode_pot_corr)\n",
        "    true_val = cathode_pot_corr[i]\n",
        "    error = (true_val - est_val) / true_val * 100\n",
        "    print(f'Vcell: {val:.2f} V \\t Estimated VRHE: {est_val:.3f} V \\t True VRHE: {true_val:.3f} V \\t Error: {error:.2f}%')\n",
        "    print('-' * 80)\n"
      ]
    },
    {
      "cell_type": "markdown",
      "metadata": {},
      "source": [
        "## Usage Instructions\n",
        "\n",
        "To use these functions in your own analysis:\n",
        "\n",
        "1. **Import the functions** from this notebook\n",
        "2. **Call `fullcell2halfcell(vcell)`** with your full cell voltage\n",
        "3. **The function returns** `(ushe, urhe)` - half-cell potentials vs SHE and RHE\n",
        "\n",
        "### Example:\n",
        "```python\n",
        "# Convert a full cell voltage of 3.5 V\n",
        "ushe, urhe = fullcell2halfcell(3.5)\n",
        "print(f\"Half-cell potential vs SHE: {ushe:.3f} V\")\n",
        "print(f\"Half-cell potential vs RHE: {urhe:.3f} V\")\n",
        "```\n",
        "\n",
        "### For batch conversion:\n",
        "```python\n",
        "# Convert an array of voltages\n",
        "voltages = [2.8, 3.2, 3.5, 3.8, 4.0]\n",
        "she_values = []\n",
        "rhe_values = []\n",
        "\n",
        "for v in voltages:\n",
        "    ushe, urhe = fullcell2halfcell(v)\n",
        "    she_values.append(ushe)\n",
        "    rhe_values.append(urhe)\n",
        "\n",
        "print(f\"SHE values: {she_values}\")\n",
        "print(f\"RHE values: {rhe_values}\")\n",
        "```\n"
      ]
    },
    {
      "cell_type": "markdown",
      "metadata": {},
      "source": [
        "## References\n",
        "\n",
        "1. Arabyarmohammadi, F. et al. Voltage distribution within carbon dioxide reduction electrolysers. *Nature Sustainability* (2025) - https://www.nature.com/articles/s41893-025-01643-4\n",
        "\n",
        "2. This methodology follows established protocols for accurate half-cell potential determination in CO₂ reduction electrolyzers.\n"
      ]
    }
  ],
  "metadata": {
    "kernelspec": {
      "display_name": "base",
      "language": "python",
      "name": "python3"
    },
    "language_info": {
      "codemirror_mode": {
        "name": "ipython",
        "version": 3
      },
      "file_extension": ".py",
      "mimetype": "text/x-python",
      "name": "python",
      "nbconvert_exporter": "python",
      "pygments_lexer": "ipython3",
      "version": "3.12.7"
    }
  },
  "nbformat": 4,
  "nbformat_minor": 2
}
